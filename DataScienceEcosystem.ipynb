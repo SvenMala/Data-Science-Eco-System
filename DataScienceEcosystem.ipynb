{
 "cells": [
  {
   "cell_type": "markdown",
   "id": "d01712b7-e800-4d04-a28f-273b20c0d65c",
   "metadata": {},
   "source": [
    "# Data Science Tools and Ecosystem"
   ]
  },
  {
   "cell_type": "markdown",
   "id": "62df0203-0242-4761-a5b0-ce8e4a4671a0",
   "metadata": {
    "tags": []
   },
   "source": [
    "In this notebook, Data Science Tools and Ecosystem are summarized."
   ]
  },
  {
   "cell_type": "markdown",
   "id": "96978ec1-a022-4855-8414-42b43416676f",
   "metadata": {
    "tags": []
   },
   "source": [
    "**Objectives:**\n",
    "- Languages\n",
    "- Tools\n",
    "- Libraries\n",
    "- Arithmetic Expressions\n",
    "- Markdown\n",
    "- Github"
   ]
  },
  {
   "cell_type": "markdown",
   "id": "4bcbc495-2591-46e4-af36-107a3f8a6894",
   "metadata": {},
   "source": [
    "Some of the popular languages that Data Scientists use are:\n",
    "1. Python\n",
    "2. R\n",
    "3. SQL"
   ]
  },
  {
   "cell_type": "markdown",
   "id": "28bf8a85-3640-4167-964d-236905bb6e5b",
   "metadata": {},
   "source": [
    "Some of the commonly used libraries used by data scientists include:\n",
    "1. Pandas\n",
    "2. Scikit\n",
    "3. Numpy\n",
    "4. Seaborn\n",
    "5. Matplotlib"
   ]
  },
  {
   "cell_type": "markdown",
   "id": "d2a82532-0c15-4dd9-9f3e-c7cd1b7088b4",
   "metadata": {
    "tags": []
   },
   "source": [
    "| Data Science Tools |\n",
    "| -------------| \n",
    "| Jupyter |\n",
    "| R-Studio |\n",
    "| Spyder |\n",
    "| Apache Spark |\n",
    "| Flink |"
   ]
  },
  {
   "cell_type": "markdown",
   "id": "95e6f255-ae71-462a-93ad-566ec1a5f426",
   "metadata": {},
   "source": [
    "### Below are a few examples of evaluating arithmetic expressions in Python."
   ]
  },
  {
   "cell_type": "code",
   "execution_count": 4,
   "id": "f3430966-7b01-4c87-b8b2-7950b7b1f6f1",
   "metadata": {
    "tags": []
   },
   "outputs": [
    {
     "data": {
      "text/plain": [
       "17"
      ]
     },
     "execution_count": 4,
     "metadata": {},
     "output_type": "execute_result"
    }
   ],
   "source": [
    "# multiply and add integers\n",
    "(3*4)+5"
   ]
  },
  {
   "cell_type": "code",
   "execution_count": 5,
   "id": "3dc0ef8f-c508-4553-9d75-fcec8cee9c23",
   "metadata": {
    "tags": []
   },
   "outputs": [
    {
     "data": {
      "text/plain": [
       "3.3333333333333335"
      ]
     },
     "execution_count": 5,
     "metadata": {},
     "output_type": "execute_result"
    }
   ],
   "source": [
    "# Converting 200 minutes into hours\n",
    "200/60"
   ]
  },
  {
   "cell_type": "markdown",
   "id": "764fc98e-a2ea-4986-8ea0-2a207c318f7f",
   "metadata": {},
   "source": [
    "## Author\n",
    "Sven Malama"
   ]
  },
  {
   "cell_type": "code",
   "execution_count": null,
   "id": "f57a9cd7-1f4d-4ba0-9f98-0a1004f6289e",
   "metadata": {},
   "outputs": [],
   "source": []
  }
 ],
 "metadata": {
  "kernelspec": {
   "display_name": "Python",
   "language": "python",
   "name": "conda-env-python-py"
  },
  "language_info": {
   "codemirror_mode": {
    "name": "ipython",
    "version": 3
   },
   "file_extension": ".py",
   "mimetype": "text/x-python",
   "name": "python",
   "nbconvert_exporter": "python",
   "pygments_lexer": "ipython3",
   "version": "3.7.12"
  }
 },
 "nbformat": 4,
 "nbformat_minor": 5
}
